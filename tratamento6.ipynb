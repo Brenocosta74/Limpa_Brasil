{
 "cells": [
  {
   "cell_type": "code",
   "execution_count": 2,
   "metadata": {},
   "outputs": [],
   "source": [
    "import pandas as pd\n",
    "\n",
    "df = pd.read_excel(\"dados_tratados7.0.xlsx\")\n",
    "\n",
    "# Coluna com os nomes das ONGs\n",
    "coluna_ong = \"Representa alguma Organização/ONG/Escola/Empresa etc? Se sim, descreva o nome\"\n",
    "\n",
    "# Mapeamento de nomes variados para nomes padronizados\n",
    "mapeamento = {\n",
    "    \"coletivo boraver\": \"Coletivo Bora Ver\",\n",
    "    \"boraver\": \"Coletivo Bora Ver\",\n",
    "    \"coletivo bora ver\": \"Coletivo Bora Ver\",\n",
    "    \"sim, coletivo boraver\": \"Coletivo Bora Ver\",\n",
    "    \"coletivo bora ver.\": \"Coletivo Bora Ver\",\n",
    "    \"Bora ver\": \"Coletivo Bora Ver\",\n",
    "    \"grupo mulheres do brasil núcleo itatiba\": \"Grupo Mulheres do Brasil - Itatiba\",\n",
    "    \"limpa brasil\": \"Instituto Limpa Brasil\",\n",
    "    \"limpabrasil\": \"Instituto Limpa Brasil\",\n",
    "    # adicione mais variações conforme necessário\n",
    "}\n",
    "\n",
    "# Função de padronização\n",
    "def padronizar_ong(valor):\n",
    "    if pd.isna(valor):\n",
    "        return valor\n",
    "    valor_limpo = str(valor).strip().lower()\n",
    "    return mapeamento.get(valor_limpo, valor.strip())\n",
    "\n",
    "# Aplica a padronização\n",
    "df[\"Representa alguma Organização/ONG/Escola/Empresa etc? Se sim, descreva o nome\"] = df[coluna_ong].apply(padronizar_ong)\n",
    "\n",
    "# Salva o novo arquivo\n",
    "df.to_excel(\"dados_tratados8.0.xlsx\", index=False)"
   ]
  }
 ],
 "metadata": {
  "kernelspec": {
   "display_name": "Python 3",
   "language": "python",
   "name": "python3"
  },
  "language_info": {
   "codemirror_mode": {
    "name": "ipython",
    "version": 3
   },
   "file_extension": ".py",
   "mimetype": "text/x-python",
   "name": "python",
   "nbconvert_exporter": "python",
   "pygments_lexer": "ipython3",
   "version": "3.12.1"
  }
 },
 "nbformat": 4,
 "nbformat_minor": 2
}
